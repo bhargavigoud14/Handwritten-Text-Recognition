{
  "nbformat": 4,
  "nbformat_minor": 0,
  "metadata": {
    "colab": {
      "provenance": []
    },
    "kernelspec": {
      "name": "python3",
      "display_name": "Python 3"
    },
    "language_info": {
      "name": "python"
    }
  },
  "cells": [
    {
      "cell_type": "markdown",
      "source": [
        "**To install Tesseract OCR for Python in Google Colab, you can use the following steps:**\n",
        "\n",
        "1.Importantly, ensure that you have the Tesseract binary installed in your Colab environment. You can use the following commands to install it:"
      ],
      "metadata": {
        "id": "bt6LCq5RZTVc"
      }
    },
    {
      "cell_type": "code",
      "execution_count": null,
      "metadata": {
        "colab": {
          "base_uri": "https://localhost:8080/"
        },
        "id": "B5AtQwArYTGb",
        "outputId": "8a5dcc0f-b6ec-43e0-f977-aed17472fded"
      },
      "outputs": [
        {
          "output_type": "stream",
          "name": "stdout",
          "text": [
            "Reading package lists... Done\n",
            "Building dependency tree... Done\n",
            "Reading state information... Done\n",
            "The following additional packages will be installed:\n",
            "  tesseract-ocr-eng tesseract-ocr-osd\n",
            "The following NEW packages will be installed:\n",
            "  tesseract-ocr tesseract-ocr-eng tesseract-ocr-osd\n",
            "0 upgraded, 3 newly installed, 0 to remove and 16 not upgraded.\n",
            "Need to get 4,816 kB of archives.\n",
            "After this operation, 15.6 MB of additional disk space will be used.\n",
            "Get:1 http://archive.ubuntu.com/ubuntu jammy/universe amd64 tesseract-ocr-eng all 1:4.00~git30-7274cfa-1.1 [1,591 kB]\n",
            "Get:2 http://archive.ubuntu.com/ubuntu jammy/universe amd64 tesseract-ocr-osd all 1:4.00~git30-7274cfa-1.1 [2,990 kB]\n",
            "Get:3 http://archive.ubuntu.com/ubuntu jammy/universe amd64 tesseract-ocr amd64 4.1.1-2.1build1 [236 kB]\n",
            "Fetched 4,816 kB in 1s (3,489 kB/s)\n",
            "Selecting previously unselected package tesseract-ocr-eng.\n",
            "(Reading database ... 120903 files and directories currently installed.)\n",
            "Preparing to unpack .../tesseract-ocr-eng_1%3a4.00~git30-7274cfa-1.1_all.deb ...\n",
            "Unpacking tesseract-ocr-eng (1:4.00~git30-7274cfa-1.1) ...\n",
            "Selecting previously unselected package tesseract-ocr-osd.\n",
            "Preparing to unpack .../tesseract-ocr-osd_1%3a4.00~git30-7274cfa-1.1_all.deb ...\n",
            "Unpacking tesseract-ocr-osd (1:4.00~git30-7274cfa-1.1) ...\n",
            "Selecting previously unselected package tesseract-ocr.\n",
            "Preparing to unpack .../tesseract-ocr_4.1.1-2.1build1_amd64.deb ...\n",
            "Unpacking tesseract-ocr (4.1.1-2.1build1) ...\n",
            "Setting up tesseract-ocr-eng (1:4.00~git30-7274cfa-1.1) ...\n",
            "Setting up tesseract-ocr-osd (1:4.00~git30-7274cfa-1.1) ...\n",
            "Setting up tesseract-ocr (4.1.1-2.1build1) ...\n",
            "Processing triggers for man-db (2.10.2-1) ...\n",
            "Reading package lists... Done\n",
            "Building dependency tree... Done\n",
            "Reading state information... Done\n",
            "The following additional packages will be installed:\n",
            "  libarchive-dev libleptonica-dev\n",
            "The following NEW packages will be installed:\n",
            "  libarchive-dev libleptonica-dev libtesseract-dev\n",
            "0 upgraded, 3 newly installed, 0 to remove and 16 not upgraded.\n",
            "Need to get 3,743 kB of archives.\n",
            "After this operation, 16.0 MB of additional disk space will be used.\n",
            "Get:1 http://archive.ubuntu.com/ubuntu jammy/main amd64 libarchive-dev amd64 3.6.0-1ubuntu1 [581 kB]\n",
            "Get:2 http://archive.ubuntu.com/ubuntu jammy/universe amd64 libleptonica-dev amd64 1.82.0-3build1 [1,562 kB]\n",
            "Get:3 http://archive.ubuntu.com/ubuntu jammy/universe amd64 libtesseract-dev amd64 4.1.1-2.1build1 [1,600 kB]\n",
            "Fetched 3,743 kB in 1s (2,821 kB/s)\n",
            "Selecting previously unselected package libarchive-dev:amd64.\n",
            "(Reading database ... 120950 files and directories currently installed.)\n",
            "Preparing to unpack .../libarchive-dev_3.6.0-1ubuntu1_amd64.deb ...\n",
            "Unpacking libarchive-dev:amd64 (3.6.0-1ubuntu1) ...\n",
            "Selecting previously unselected package libleptonica-dev.\n",
            "Preparing to unpack .../libleptonica-dev_1.82.0-3build1_amd64.deb ...\n",
            "Unpacking libleptonica-dev (1.82.0-3build1) ...\n",
            "Selecting previously unselected package libtesseract-dev:amd64.\n",
            "Preparing to unpack .../libtesseract-dev_4.1.1-2.1build1_amd64.deb ...\n",
            "Unpacking libtesseract-dev:amd64 (4.1.1-2.1build1) ...\n",
            "Setting up libleptonica-dev (1.82.0-3build1) ...\n",
            "Setting up libarchive-dev:amd64 (3.6.0-1ubuntu1) ...\n",
            "Setting up libtesseract-dev:amd64 (4.1.1-2.1build1) ...\n",
            "Processing triggers for man-db (2.10.2-1) ...\n"
          ]
        }
      ],
      "source": [
        "!apt-get install tesseract-ocr\n",
        "!apt-get install libtesseract-dev\n",
        "\n"
      ]
    },
    {
      "cell_type": "markdown",
      "source": [
        "2.Next, install the pytesseract Python library, which allows you to interact with Tesseract OCR:"
      ],
      "metadata": {
        "id": "rhtMMqjuZfdl"
      }
    },
    {
      "cell_type": "code",
      "source": [
        "!pip install pytesseract"
      ],
      "metadata": {
        "colab": {
          "base_uri": "https://localhost:8080/"
        },
        "id": "iX1v_yjxXR3e",
        "outputId": "b53d2d1f-c1f7-43f9-efbb-6bcb064651cf"
      },
      "execution_count": null,
      "outputs": [
        {
          "output_type": "stream",
          "name": "stdout",
          "text": [
            "Collecting pytesseract\n",
            "  Downloading pytesseract-0.3.10-py3-none-any.whl (14 kB)\n",
            "Requirement already satisfied: packaging>=21.3 in /usr/local/lib/python3.10/dist-packages (from pytesseract) (23.2)\n",
            "Requirement already satisfied: Pillow>=8.0.0 in /usr/local/lib/python3.10/dist-packages (from pytesseract) (9.4.0)\n",
            "Installing collected packages: pytesseract\n",
            "Successfully installed pytesseract-0.3.10\n"
          ]
        }
      ]
    },
    {
      "cell_type": "markdown",
      "source": [
        "3.You may also need to install the Pillow library, which is often used for image processing and is required by pytesseract:"
      ],
      "metadata": {
        "id": "oPq2kvX5ZviR"
      }
    },
    {
      "cell_type": "code",
      "source": [
        "!pip install Pillow"
      ],
      "metadata": {
        "colab": {
          "base_uri": "https://localhost:8080/"
        },
        "id": "9lmqs-cjXXiw",
        "outputId": "6a61951d-98d2-410c-e153-0d1c12dd4ba6"
      },
      "execution_count": null,
      "outputs": [
        {
          "output_type": "stream",
          "name": "stdout",
          "text": [
            "Requirement already satisfied: Pillow in /usr/local/lib/python3.10/dist-packages (9.4.0)\n"
          ]
        }
      ]
    },
    {
      "cell_type": "code",
      "source": [
        "!pip install pyspellchecker\n",
        "\n",
        "\n"
      ],
      "metadata": {
        "colab": {
          "base_uri": "https://localhost:8080/"
        },
        "id": "Jv7VemO27cdt",
        "outputId": "44499512-84eb-4b0d-dff8-477cdb370abf"
      },
      "execution_count": null,
      "outputs": [
        {
          "output_type": "stream",
          "name": "stdout",
          "text": [
            "Collecting pyspellchecker\n",
            "  Downloading pyspellchecker-0.7.2-py3-none-any.whl (3.4 MB)\n",
            "\u001b[2K     \u001b[90m━━━━━━━━━━━━━━━━━━━━━━━━━━━━━━━━━━━━━━━━\u001b[0m \u001b[32m3.4/3.4 MB\u001b[0m \u001b[31m14.3 MB/s\u001b[0m eta \u001b[36m0:00:00\u001b[0m\n",
            "\u001b[?25hInstalling collected packages: pyspellchecker\n",
            "Successfully installed pyspellchecker-0.7.2\n"
          ]
        }
      ]
    },
    {
      "cell_type": "markdown",
      "source": [
        "**Once you have installed Tesseract and the required Python libraries, you can use pytesseract to perform OCR on images.**"
      ],
      "metadata": {
        "id": "DPc7RzXJazBp"
      }
    },
    {
      "cell_type": "code",
      "source": [
        "import pytesseract\n",
        "from PIL import Image\n",
        "from spellchecker import SpellChecker\n",
        "\n",
        "from google.colab import drive\n",
        "\n",
        "\n",
        "# Mount Google Drive if your images are stored there\n",
        "drive.mount('/content/drive')\n"
      ],
      "metadata": {
        "colab": {
          "base_uri": "https://localhost:8080/"
        },
        "id": "ROesmyWvYUf-",
        "outputId": "316b0929-37e2-412e-d085-5d6666cf3a73"
      },
      "execution_count": null,
      "outputs": [
        {
          "output_type": "stream",
          "name": "stdout",
          "text": [
            "Mounted at /content/drive\n"
          ]
        }
      ]
    },
    {
      "cell_type": "code",
      "source": [
        "#run this without commands only if file are to be uploaded manually\n",
        "'''uploaded = files.upload()'''"
      ],
      "metadata": {
        "colab": {
          "base_uri": "https://localhost:8080/",
          "height": 35
        },
        "id": "cNhWLxnUWjWz",
        "outputId": "67e94c30-8b40-4f07-c8b5-f7fbd1326fbd"
      },
      "execution_count": null,
      "outputs": [
        {
          "output_type": "execute_result",
          "data": {
            "text/plain": [
              "'uploaded = files.upload()'"
            ],
            "application/vnd.google.colaboratory.intrinsic+json": {
              "type": "string"
            }
          },
          "metadata": {},
          "execution_count": 7
        }
      ]
    },
    {
      "cell_type": "code",
      "source": [
        "# Replace with the path to your image if it's on Google Drive\n",
        "image_path = '/content/drive/MyDrive/example1.png'\n",
        "\n",
        "# Open the image using PIL (Python Imaging Library)\n",
        "image = Image.open(image_path)\n",
        "\n",
        "image\n"
      ],
      "metadata": {
        "id": "HSZlZE7hY3ic",
        "colab": {
          "base_uri": "https://localhost:8080/",
          "height": 167
        },
        "outputId": "996829b3-0015-40a4-b8f3-833bca98f1dd"
      },
      "execution_count": null,
      "outputs": [
        {
          "output_type": "execute_result",
          "data": {
            "text/plain": [
              "<PIL.JpegImagePlugin.JpegImageFile image mode=RGB size=336x150>"
            ],
            "image/png": "[encoded data removed]"
          },
          "metadata": {},
          "execution_count": 6
        }
      ]
    },
    {
      "cell_type": "code",
      "source": [
        "# Perform OCR on the image\n",
        "text = pytesseract.image_to_string(image , lang='eng')\n",
        "\n",
        "# Print the recognized text\n",
        "print(text)\n"
      ],
      "metadata": {
        "colab": {
          "base_uri": "https://localhost:8080/"
        },
        "id": "xISTx6UWZGLn",
        "outputId": "4c0812bd-8f86-4537-b2f9-9bce2bdd739b"
      },
      "execution_count": null,
      "outputs": [
        {
          "output_type": "stream",
          "name": "stdout",
          "text": [
            "This is a handwritten\n",
            "example\n",
            "\n",
            "Write as gooal as you can.\n",
            "\f\n"
          ]
        }
      ]
    },
    {
      "cell_type": "code",
      "source": [
        "!pip install gTTS"
      ],
      "metadata": {
        "colab": {
          "base_uri": "https://localhost:8080/"
        },
        "id": "RsVNdP7TXLHD",
        "outputId": "55caa415-e173-488f-ae3a-f533a4370d48"
      },
      "execution_count": null,
      "outputs": [
        {
          "output_type": "stream",
          "name": "stdout",
          "text": [
            "Collecting gTTS\n",
            "  Downloading gTTS-2.4.0-py3-none-any.whl (29 kB)\n",
            "Requirement already satisfied: requests<3,>=2.27 in /usr/local/lib/python3.10/dist-packages (from gTTS) (2.31.0)\n",
            "Requirement already satisfied: click<8.2,>=7.1 in /usr/local/lib/python3.10/dist-packages (from gTTS) (8.1.7)\n",
            "Requirement already satisfied: charset-normalizer<4,>=2 in /usr/local/lib/python3.10/dist-packages (from requests<3,>=2.27->gTTS) (3.3.2)\n",
            "Requirement already satisfied: idna<4,>=2.5 in /usr/local/lib/python3.10/dist-packages (from requests<3,>=2.27->gTTS) (3.6)\n",
            "Requirement already satisfied: urllib3<3,>=1.21.1 in /usr/local/lib/python3.10/dist-packages (from requests<3,>=2.27->gTTS) (2.0.7)\n",
            "Requirement already satisfied: certifi>=2017.4.17 in /usr/local/lib/python3.10/dist-packages (from requests<3,>=2.27->gTTS) (2023.11.17)\n",
            "Installing collected packages: gTTS\n",
            "Successfully installed gTTS-2.4.0\n"
          ]
        }
      ]
    },
    {
      "cell_type": "code",
      "source": [
        "\n",
        "!pip install googletrans==4.0.0-rc1\n",
        "\n"
      ],
      "metadata": {
        "colab": {
          "base_uri": "https://localhost:8080/"
        },
        "id": "BGRniyIoh6iR",
        "outputId": "1e283147-a69b-4480-da59-bc79a1679abb"
      },
      "execution_count": null,
      "outputs": [
        {
          "output_type": "stream",
          "name": "stdout",
          "text": [
            "Collecting googletrans==4.0.0-rc1\n",
            "  Downloading googletrans-4.0.0rc1.tar.gz (20 kB)\n",
            "  Preparing metadata (setup.py) ... \u001b[?25l\u001b[?25hdone\n",
            "Collecting httpx==0.13.3 (from googletrans==4.0.0-rc1)\n",
            "  Downloading httpx-0.13.3-py3-none-any.whl (55 kB)\n",
            "\u001b[2K     \u001b[90m━━━━━━━━━━━━━━━━━━━━━━━━━━━━━━━━━━━━━━━━\u001b[0m \u001b[32m55.1/55.1 kB\u001b[0m \u001b[31m1.1 MB/s\u001b[0m eta \u001b[36m0:00:00\u001b[0m\n",
            "\u001b[?25hRequirement already satisfied: certifi in /usr/local/lib/python3.10/dist-packages (from httpx==0.13.3->googletrans==4.0.0-rc1) (2023.11.17)\n",
            "Collecting hstspreload (from httpx==0.13.3->googletrans==4.0.0-rc1)\n",
            "  Downloading hstspreload-2023.1.1-py3-none-any.whl (1.5 MB)\n",
            "\u001b[2K     \u001b[90m━━━━━━━━━━━━━━━━━━━━━━━━━━━━━━━━━━━━━━━━\u001b[0m \u001b[32m1.5/1.5 MB\u001b[0m \u001b[31m10.4 MB/s\u001b[0m eta \u001b[36m0:00:00\u001b[0m\n",
            "\u001b[?25hRequirement already satisfied: sniffio in /usr/local/lib/python3.10/dist-packages (from httpx==0.13.3->googletrans==4.0.0-rc1) (1.3.0)\n",
            "Collecting chardet==3.* (from httpx==0.13.3->googletrans==4.0.0-rc1)\n",
            "  Downloading chardet-3.0.4-py2.py3-none-any.whl (133 kB)\n",
            "\u001b[2K     \u001b[90m━━━━━━━━━━━━━━━━━━━━━━━━━━━━━━━━━━━━━━━━\u001b[0m \u001b[32m133.4/133.4 kB\u001b[0m \u001b[31m14.0 MB/s\u001b[0m eta \u001b[36m0:00:00\u001b[0m\n",
            "\u001b[?25hCollecting idna==2.* (from httpx==0.13.3->googletrans==4.0.0-rc1)\n",
            "  Downloading idna-2.10-py2.py3-none-any.whl (58 kB)\n",
            "\u001b[2K     \u001b[90m━━━━━━━━━━━━━━━━━━━━━━━━━━━━━━━━━━━━━━━━\u001b[0m \u001b[32m58.8/58.8 kB\u001b[0m \u001b[31m5.4 MB/s\u001b[0m eta \u001b[36m0:00:00\u001b[0m\n",
            "\u001b[?25hCollecting rfc3986<2,>=1.3 (from httpx==0.13.3->googletrans==4.0.0-rc1)\n",
            "  Downloading rfc3986-1.5.0-py2.py3-none-any.whl (31 kB)\n",
            "Collecting httpcore==0.9.* (from httpx==0.13.3->googletrans==4.0.0-rc1)\n",
            "  Downloading httpcore-0.9.1-py3-none-any.whl (42 kB)\n",
            "\u001b[2K     \u001b[90m━━━━━━━━━━━━━━━━━━━━━━━━━━━━━━━━━━━━━━━━\u001b[0m \u001b[32m42.6/42.6 kB\u001b[0m \u001b[31m4.5 MB/s\u001b[0m eta \u001b[36m0:00:00\u001b[0m\n",
            "\u001b[?25hCollecting h11<0.10,>=0.8 (from httpcore==0.9.*->httpx==0.13.3->googletrans==4.0.0-rc1)\n",
            "  Downloading h11-0.9.0-py2.py3-none-any.whl (53 kB)\n",
            "\u001b[2K     \u001b[90m━━━━━━━━━━━━━━━━━━━━━━━━━━━━━━━━━━━━━━━━\u001b[0m \u001b[32m53.6/53.6 kB\u001b[0m \u001b[31m6.0 MB/s\u001b[0m eta \u001b[36m0:00:00\u001b[0m\n",
            "\u001b[?25hCollecting h2==3.* (from httpcore==0.9.*->httpx==0.13.3->googletrans==4.0.0-rc1)\n",
            "  Downloading h2-3.2.0-py2.py3-none-any.whl (65 kB)\n",
            "\u001b[2K     \u001b[90m━━━━━━━━━━━━━━━━━━━━━━━━━━━━━━━━━━━━━━━━\u001b[0m \u001b[32m65.0/65.0 kB\u001b[0m \u001b[31m7.6 MB/s\u001b[0m eta \u001b[36m0:00:00\u001b[0m\n",
            "\u001b[?25hCollecting hyperframe<6,>=5.2.0 (from h2==3.*->httpcore==0.9.*->httpx==0.13.3->googletrans==4.0.0-rc1)\n",
            "  Downloading hyperframe-5.2.0-py2.py3-none-any.whl (12 kB)\n",
            "Collecting hpack<4,>=3.0 (from h2==3.*->httpcore==0.9.*->httpx==0.13.3->googletrans==4.0.0-rc1)\n",
            "  Downloading hpack-3.0.0-py2.py3-none-any.whl (38 kB)\n",
            "Building wheels for collected packages: googletrans\n",
            "  Building wheel for googletrans (setup.py) ... \u001b[?25l\u001b[?25hdone\n",
            "  Created wheel for googletrans: filename=googletrans-4.0.0rc1-py3-none-any.whl size=17396 sha256=68d498e68cf8cdee79fd82c775c99b86ac7814d5481bb63780b2ce26e11cc81b\n",
            "  Stored in directory: /root/.cache/pip/wheels/c0/59/9f/7372f0cf70160fe61b528532e1a7c8498c4becd6bcffb022de\n",
            "Successfully built googletrans\n",
            "Installing collected packages: rfc3986, hyperframe, hpack, h11, chardet, idna, hstspreload, h2, httpcore, httpx, googletrans\n",
            "  Attempting uninstall: chardet\n",
            "    Found existing installation: chardet 5.2.0\n",
            "    Uninstalling chardet-5.2.0:\n",
            "      Successfully uninstalled chardet-5.2.0\n",
            "  Attempting uninstall: idna\n",
            "    Found existing installation: idna 3.6\n",
            "    Uninstalling idna-3.6:\n",
            "      Successfully uninstalled idna-3.6\n",
            "Successfully installed chardet-3.0.4 googletrans-4.0.0rc1 h11-0.9.0 h2-3.2.0 hpack-3.0.0 hstspreload-2023.1.1 httpcore-0.9.1 httpx-0.13.3 hyperframe-5.2.0 idna-2.10 rfc3986-1.5.0\n"
          ]
        }
      ]
    },
    {
      "cell_type": "code",
      "source": [
        "!pip install pyttsx3\n"
      ],
      "metadata": {
        "colab": {
          "base_uri": "https://localhost:8080/"
        },
        "id": "Qp0sS2-xjNus",
        "outputId": "99ccaebd-5bdb-4ea6-fcb7-a5538ae2b7ae"
      },
      "execution_count": null,
      "outputs": [
        {
          "output_type": "stream",
          "name": "stdout",
          "text": [
            "Collecting pyttsx3\n",
            "  Downloading pyttsx3-2.90-py3-none-any.whl (39 kB)\n",
            "Installing collected packages: pyttsx3\n",
            "Successfully installed pyttsx3-2.90\n"
          ]
        }
      ]
    },
    {
      "cell_type": "code",
      "source": [
        "import pytesseract\n",
        "from PIL import Image\n",
        "from gtts import gTTS\n",
        "from IPython.display import Audio\n",
        "from googletrans import Translator\n",
        "import pyttsx3\n",
        "\n",
        "\n"
      ],
      "metadata": {
        "id": "qSyYDdhQXoJk"
      },
      "execution_count": null,
      "outputs": []
    },
    {
      "cell_type": "code",
      "source": [
        "from re import T\n",
        "# Open the image containing handwritten text\n",
        "image_path = '/content/drive/MyDrive/example1.png'\n",
        "img = Image.open(image_path)\n",
        "\n",
        "# Perform OCR\n",
        "text = pytesseract.image_to_string(img, config='--psm 6')\n",
        "text\n"
      ],
      "metadata": {
        "id": "CA0x0YwzX-e9",
        "colab": {
          "base_uri": "https://localhost:8080/",
          "height": 35
        },
        "outputId": "36500116-c671-412a-e8a1-c6fe99485d62"
      },
      "execution_count": null,
      "outputs": [
        {
          "output_type": "execute_result",
          "data": {
            "text/plain": [
              "'This is a handwritten\\nexample\\nWrite as gooal as you can.\\n\\x0c'"
            ],
            "application/vnd.google.colaboratory.intrinsic+json": {
              "type": "string"
            }
          },
          "metadata": {},
          "execution_count": 13
        }
      ]
    },
    {
      "cell_type": "code",
      "source": [
        "tts = gTTS(text, lang='en')\n"
      ],
      "metadata": {
        "id": "4u7z81JNY7-g"
      },
      "execution_count": null,
      "outputs": []
    },
    {
      "cell_type": "code",
      "source": [
        "tts = gTTS(text, lang='en', slow=False, lang_check=False)\n",
        "\n",
        "# Save the audio file (you can choose any filename and format)\n",
        "audio_file = \"/content/drive/MyDrive/output_audio.mp3\"\n",
        "tts.save(audio_file)\n"
      ],
      "metadata": {
        "id": "wRbvnNLtX9BG"
      },
      "execution_count": null,
      "outputs": []
    },
    {
      "cell_type": "code",
      "source": [
        "# Play the audio\n",
        "Audio(audio_file)\n"
      ],
      "metadata": {
        "colab": {
          "base_uri": "https://localhost:8080/",
          "height": 75
        },
        "id": "-tr-Du1qYSn1",
        "outputId": "46a39e11-7b3c-4c98-918f-10609bb1d333"
      },
      "execution_count": null,
      "outputs": [
        {
          "output_type": "execute_result",
          "data": {
            "text/plain": [
              "<IPython.lib.display.Audio object>"
            ],
            "text/html": [
              "\n",
              "                <audio  controls=\"controls\" >\n",
              "                    <source src=\"data:audio/mpeg;base64,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\" type=\"audio/mpeg\" />\n",
              "                    Your browser does not support the audio element.\n",
              "                </audio>\n",
              "              "
            ]
          },
          "metadata": {},
          "execution_count": 16
        }
      ]
    }
  ]
}